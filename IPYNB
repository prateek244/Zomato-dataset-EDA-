# Zomato-dataset-EDA-
This repository showcases a detailed Exploratory Data Analysis (EDA) on the Zomato restaurant dataset, uncovering insights into restaurant types, cuisines, ratings,  and customer preferences across major cities. 
The project applies Python-based data wrangling, visualization, and statistical techniques to transform raw data into actionable intelligence  for food-tech and business strategy.

🔍 Key Highlights:

Data Cleaning & Preprocessing: Handling nulls, duplicates, and inconsistent formats

Feature Engineering: Extracting city-level metrics, cuisine categories, and rating bins

Visual Insights: Interactive plots using Matplotlib, Seaborn, and Plotly

🛠️ Tech Stack:

Python, Pandas, NumPy

Matplotlib, Seaborn, Plotly

Jupyter Notebook


http://localhost:8888/notebooks/project_dataset.ipynb

